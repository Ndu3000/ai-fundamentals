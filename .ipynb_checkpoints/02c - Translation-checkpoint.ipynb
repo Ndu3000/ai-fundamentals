{
 "cells": [
  {
   "cell_type": "markdown",
   "metadata": {
    "toc": true
   },
   "source": [
    "<h1>Table of Contents<span class=\"tocSkip\"></span></h1>\n",
    "<div class=\"toc\"><ul class=\"toc-item\"><li><span><a href=\"#Translation\" data-toc-modified-id=\"Translation-1\"><span class=\"toc-item-num\">1&nbsp;&nbsp;</span>Translation</a></span><ul class=\"toc-item\"><li><span><a href=\"#Create-a-Cognitive-Services-resource\" data-toc-modified-id=\"Create-a-Cognitive-Services-resource-1.1\"><span class=\"toc-item-num\">1.1&nbsp;&nbsp;</span>Create a Cognitive Services resource</a></span><ul class=\"toc-item\"><li><span><a href=\"#Get-the-Key-and-Endpoint-for-your-Cognitive-Services-resource\" data-toc-modified-id=\"Get-the-Key-and-Endpoint-for-your-Cognitive-Services-resource-1.1.1\"><span class=\"toc-item-num\">1.1.1&nbsp;&nbsp;</span>Get the Key and Endpoint for your Cognitive Services resource</a></span></li></ul></li><li><span><a href=\"#Translating-Text\" data-toc-modified-id=\"Translating-Text-1.2\"><span class=\"toc-item-num\">1.2&nbsp;&nbsp;</span>Translating Text</a></span></li><li><span><a href=\"#Speech-Translation\" data-toc-modified-id=\"Speech-Translation-1.3\"><span class=\"toc-item-num\">1.3&nbsp;&nbsp;</span>Speech Translation</a></span></li><li><span><a href=\"#Learn-More\" data-toc-modified-id=\"Learn-More-1.4\"><span class=\"toc-item-num\">1.4&nbsp;&nbsp;</span>Learn More</a></span></li></ul></li></ul></div>"
   ]
  },
  {
   "cell_type": "markdown",
   "metadata": {},
   "source": [
    "# Translation\n",
    "\n",
    "One of the driving forces that has enabled human civilization to develop is the ability to communicate with one another. In most human endeavours, communication is key.\n",
    "\n",
    "<p style='text-align:center'><img src='./images/translation.jpg' alt='A multilingual robot'/></p>\n",
    "\n",
    "Artificial Intelligence (AI) can help simplify communication by translating text or speech between languages, helping to remove barriers to communication across countries and cultures.\n",
    "\n",
    "## Create a Cognitive Services resource\n",
    "\n",
    "In Azure, you can use the cognitive services to translate between multiple languages.\n",
    "\n",
    "If you don't already have one, use the following steps to create a **Cognitive Services** resource in your Azure subscription:\n",
    "\n",
    "1. In another browser tab, open the Azure portal at https://portal.azure.com, signing in with your Microsoft account.\n",
    "2. Click the **&#65291;Create a resource** button, search for *Cognitive Services*, and create a **Cognitive Services** resource with the following settings:\n",
    "    - **Name**: *Enter a unique name*.\n",
    "    - **Subscription**: *Your Azure subscription*.\n",
    "    - **Location**: *Any available location*.\n",
    "    - **Pricing tier**: S0\n",
    "    - **Resource group**: *Create a resource group with a unique name*.\n",
    "3. Wait for deployment to complete. Then go to your cognitive services resource, and on the **Overview** page, click the link to manage the keys for the service. You will need the endpoint and keys to connect to your cognitive services resource from client applications.\n",
    "\n",
    "### Get the Key and Endpoint for your Cognitive Services resource\n",
    "\n",
    "To use your cognitive services resource, client applications need its  endpoint and authentication key:\n",
    "\n",
    "1. In the Azure portal, on the **Keys and Endpoint** page for your cognitive service resource, copy the **Key1** for your resource and paste it in the code below, replacing **YOUR_COG_KEY**.\n",
    "2. Copy the **endpoint** for your resource and and paste it in the code below, replacing **YOUR_COG_ENDPOINT**.\n",
    "3. Run the code in the cell below by clicking its green <span style=\"color:green\">&#9655</span> button."
   ]
  },
  {
   "cell_type": "code",
   "execution_count": null,
   "metadata": {},
   "outputs": [],
   "source": [
    "cog_key = '7d630a8c700448c6a7a91d690c5a085c'\n",
    "cog_endpoint = 'https://mltest-cognitive.cognitiveservices.azure.com/'\n",
    "\n",
    "# Get region from endpoint\n",
    "cog_region = cog_endpoint[8:cog_endpoint.find('.')]\n",
    "\n",
    "print('Ready to use cognitive services in {} using key {}'.format(cog_region, cog_key))"
   ]
  },
  {
   "cell_type": "markdown",
   "metadata": {},
   "source": [
    "## Translating Text\n",
    "\n",
    "As its name suggests, the **Translator Text** service enables you to translate text from one language to another.\n",
    "\n",
    "There's no Python SDK for this service, but you can use its REST interface to submit requests to an endpoint over HTTP, which is relatively easy to do in Python by using the **requests** library. The information about the text to be translated and the resulting translated text are exchanged in JSON format.\n",
    "\n",
    "Run the following cell to create a function that does this, and then test the function with a simple translation from English to French."
   ]
  },
  {
   "cell_type": "code",
   "execution_count": null,
   "metadata": {},
   "outputs": [],
   "source": [
    "# Create a function that makes a REST request to the Text Translation service\n",
    "def translate_text(cog_region, cog_key, text, to_lang='fr', from_lang='en'):\n",
    "    import requests, uuid, json\n",
    "\n",
    "    # Create the URL for the Text Translator service REST request\n",
    "    path = 'https://api.cognitive.microsofttranslator.com/translate?api-version=3.0'\n",
    "    params = '&from={}&to={}'.format(from_lang, to_lang)\n",
    "    constructed_url = path + params\n",
    "\n",
    "    # Prepare the request headers with Cognitive Services resource key and region\n",
    "    headers = {\n",
    "        'Ocp-Apim-Subscription-Key': cog_key,\n",
    "        'Ocp-Apim-Subscription-Region':cog_region,\n",
    "        'Content-type': 'application/json',\n",
    "        'X-ClientTraceId': str(uuid.uuid4())\n",
    "    }\n",
    "\n",
    "    # Add the text to be translated to the body\n",
    "    body = [{\n",
    "        'text': text\n",
    "    }]\n",
    "\n",
    "    # Get the translation\n",
    "    request = requests.post(constructed_url, headers=headers, json=body)\n",
    "    response = request.json()\n",
    "    return response[0][\"translations\"][0][\"text\"]\n",
    "\n",
    "\n",
    "# Test the function\n",
    "text_to_translate = \"Hello\"\n",
    "\n",
    "translation = translate_text(cog_region, cog_key, text_to_translate, to_lang='fr', from_lang='en')\n",
    "print('{} -> {}'.format(text_to_translate,translation))"
   ]
  },
  {
   "cell_type": "markdown",
   "metadata": {},
   "source": [
    "The service should have translated the English text \"Hello\" to the French \"Bonjour\".\n",
    "\n",
    "Notice that the languages are specified by using a standard system of language abbreviations, with *en* for English and *fr* for French. You can also use abbreviations that include specific cultures, which is useful when the same language is used in different geographical areas - often with different spellings. For example *en-US* denotes English in the Unites States, while *en-GB* indicates English in Great Britain.\n",
    "\n",
    "Run the following cell to translate between British English and Italian."
   ]
  },
  {
   "cell_type": "code",
   "execution_count": 4,
   "metadata": {},
   "outputs": [
    {
     "ename": "KeyError",
     "evalue": "0",
     "output_type": "error",
     "traceback": [
      "\u001b[1;31m---------------------------------------------------------------------------\u001b[0m",
      "\u001b[1;31mKeyError\u001b[0m                                  Traceback (most recent call last)",
      "\u001b[1;32m<ipython-input-4-37d47349d6a9>\u001b[0m in \u001b[0;36m<module>\u001b[1;34m\u001b[0m\n\u001b[0;32m      1\u001b[0m \u001b[0mtext_to_translate\u001b[0m \u001b[1;33m=\u001b[0m \u001b[1;34m\"Hello\"\u001b[0m\u001b[1;33m\u001b[0m\u001b[1;33m\u001b[0m\u001b[0m\n\u001b[0;32m      2\u001b[0m \u001b[1;33m\u001b[0m\u001b[0m\n\u001b[1;32m----> 3\u001b[1;33m \u001b[0mtranslation\u001b[0m \u001b[1;33m=\u001b[0m \u001b[0mtranslate_text\u001b[0m\u001b[1;33m(\u001b[0m\u001b[0mcog_region\u001b[0m\u001b[1;33m,\u001b[0m \u001b[0mcog_key\u001b[0m\u001b[1;33m,\u001b[0m \u001b[0mtext_to_translate\u001b[0m\u001b[1;33m,\u001b[0m \u001b[0mto_lang\u001b[0m\u001b[1;33m=\u001b[0m\u001b[1;34m'it-IT'\u001b[0m\u001b[1;33m,\u001b[0m \u001b[0mfrom_lang\u001b[0m\u001b[1;33m=\u001b[0m\u001b[1;34m'en-GB'\u001b[0m\u001b[1;33m)\u001b[0m\u001b[1;33m\u001b[0m\u001b[1;33m\u001b[0m\u001b[0m\n\u001b[0m\u001b[0;32m      4\u001b[0m \u001b[0mprint\u001b[0m\u001b[1;33m(\u001b[0m\u001b[1;34m'{} -> {}'\u001b[0m\u001b[1;33m.\u001b[0m\u001b[0mformat\u001b[0m\u001b[1;33m(\u001b[0m\u001b[0mtext_to_translate\u001b[0m\u001b[1;33m,\u001b[0m\u001b[0mtranslation\u001b[0m\u001b[1;33m)\u001b[0m\u001b[1;33m)\u001b[0m\u001b[1;33m\u001b[0m\u001b[1;33m\u001b[0m\u001b[0m\n",
      "\u001b[1;32m<ipython-input-3-2fd6de9ada39>\u001b[0m in \u001b[0;36mtranslate_text\u001b[1;34m(cog_region, cog_key, text, to_lang, from_lang)\u001b[0m\n\u001b[0;32m     24\u001b[0m     \u001b[0mrequest\u001b[0m \u001b[1;33m=\u001b[0m \u001b[0mrequests\u001b[0m\u001b[1;33m.\u001b[0m\u001b[0mpost\u001b[0m\u001b[1;33m(\u001b[0m\u001b[0mconstructed_url\u001b[0m\u001b[1;33m,\u001b[0m \u001b[0mheaders\u001b[0m\u001b[1;33m=\u001b[0m\u001b[0mheaders\u001b[0m\u001b[1;33m,\u001b[0m \u001b[0mjson\u001b[0m\u001b[1;33m=\u001b[0m\u001b[0mbody\u001b[0m\u001b[1;33m)\u001b[0m\u001b[1;33m\u001b[0m\u001b[1;33m\u001b[0m\u001b[0m\n\u001b[0;32m     25\u001b[0m     \u001b[0mresponse\u001b[0m \u001b[1;33m=\u001b[0m \u001b[0mrequest\u001b[0m\u001b[1;33m.\u001b[0m\u001b[0mjson\u001b[0m\u001b[1;33m(\u001b[0m\u001b[1;33m)\u001b[0m\u001b[1;33m\u001b[0m\u001b[1;33m\u001b[0m\u001b[0m\n\u001b[1;32m---> 26\u001b[1;33m     \u001b[1;32mreturn\u001b[0m \u001b[0mresponse\u001b[0m\u001b[1;33m[\u001b[0m\u001b[1;36m0\u001b[0m\u001b[1;33m]\u001b[0m\u001b[1;33m[\u001b[0m\u001b[1;34m\"translations\"\u001b[0m\u001b[1;33m]\u001b[0m\u001b[1;33m[\u001b[0m\u001b[1;36m0\u001b[0m\u001b[1;33m]\u001b[0m\u001b[1;33m[\u001b[0m\u001b[1;34m\"text\"\u001b[0m\u001b[1;33m]\u001b[0m\u001b[1;33m\u001b[0m\u001b[1;33m\u001b[0m\u001b[0m\n\u001b[0m\u001b[0;32m     27\u001b[0m \u001b[1;33m\u001b[0m\u001b[0m\n\u001b[0;32m     28\u001b[0m \u001b[1;33m\u001b[0m\u001b[0m\n",
      "\u001b[1;31mKeyError\u001b[0m: 0"
     ]
    }
   ],
   "source": [
    "text_to_translate = \"Hello\"\n",
    "\n",
    "translation = translate_text(cog_region, cog_key, text_to_translate, to_lang='it-IT', from_lang='en-GB')\n",
    "print('{} -> {}'.format(text_to_translate,translation))"
   ]
  },
  {
   "cell_type": "markdown",
   "metadata": {},
   "source": [
    "Let's try another translation - this time from US English to Chinese."
   ]
  },
  {
   "cell_type": "code",
   "execution_count": null,
   "metadata": {},
   "outputs": [],
   "source": [
    "text_to_translate = \"Hello\"\n",
    "\n",
    "translation = translate_text(cog_region, cog_key, text_to_translate, to_lang='zh-CN', from_lang='en-US')\n",
    "print('{} -> {}'.format(text_to_translate,translation))"
   ]
  },
  {
   "cell_type": "markdown",
   "metadata": {},
   "source": [
    "## Speech Translation\n",
    "\n",
    "You can use the **Speech** service to translate spoken language.\n",
    "\n",
    "The Speech service provides a Python SDK, which you can use to translate audible speech input from a microphone or audio file.\n",
    "\n",
    "Run the following cell to create and test a function that translates audible speech.\n",
    "\n",
    "> **Note**: You'll need speakers to hear the audio."
   ]
  },
  {
   "cell_type": "code",
   "execution_count": null,
   "metadata": {},
   "outputs": [],
   "source": [
    "# Create a function to translate audio in one language to text in another\n",
    "def translate_speech(cog_region, cog_key, audio_file=None, to_lang='fr-FR', from_lang='en-US'):\n",
    "    from azure.cognitiveservices.speech import SpeechConfig, AudioConfig, ResultReason\n",
    "    from azure.cognitiveservices.speech.translation import SpeechTranslationConfig, TranslationRecognizer\n",
    "\n",
    "    # Configure the speech translation service\n",
    "    translation_config = SpeechTranslationConfig(subscription=cog_key, region=cog_region)\n",
    "    translation_config.speech_recognition_language = from_lang\n",
    "    translation_config.add_target_language(to_lang)\n",
    "\n",
    "    # Configure audio input\n",
    "    if audio_file is None:\n",
    "        audio_config = AudioConfig() # Use default input (microphone)\n",
    "    else:\n",
    "        audio_config = AudioConfig(filename=audio_file) # Use file input\n",
    "\n",
    "    # Create a translation recognizer and use it to translate speech input\n",
    "    recognizer = TranslationRecognizer(translation_config, audio_config)\n",
    "    result = recognizer.recognize_once()\n",
    "\n",
    "    # Did we get it?\n",
    "    translation = ''\n",
    "    speech_text = ''\n",
    "    if result.reason == ResultReason.TranslatedSpeech:\n",
    "        speech_text = result.text\n",
    "        translation =  result.translations[to_lang]\n",
    "    elif result.reason == ResultReason.RecognizedSpeech:\n",
    "        speech_text = result.text\n",
    "        translation =  'Unable to translate speech'\n",
    "    else:\n",
    "        translation = 'Unknown'\n",
    "        speech_text = 'Unknown'\n",
    "\n",
    "    # rturn the translation\n",
    "    return speech_text, translation\n",
    "    \n",
    "\n",
    "# Test the function\n",
    "import os, IPython\n",
    "\n",
    "file_name = 'english.wav'\n",
    "file_path = os.path.join('data', 'translation', file_name)\n",
    "speech, translated_speech = translate_speech(cog_region, cog_key, file_path, to_lang='es', from_lang='en-US')\n",
    "result = '{} -> {}'.format(speech, translated_speech)\n",
    "\n",
    "# Play audio and show translated text\n",
    "IPython.display.display(IPython.display.Audio(file_path, autoplay=True),\n",
    "                        IPython.display.HTML(result))"
   ]
  },
  {
   "cell_type": "markdown",
   "metadata": {},
   "source": [
    "Note that the \"to\" language must be identified using a 2-character language code (for example *en*), while the \"from\" language must include the culture indicator (for example *en-US*).\n",
    "\n",
    "Let's try translating from French to English."
   ]
  },
  {
   "cell_type": "code",
   "execution_count": null,
   "metadata": {},
   "outputs": [],
   "source": [
    "import os, IPython\n",
    "\n",
    "file_name = 'french.wav'\n",
    "file_path = os.path.join('data', 'translation', file_name)\n",
    "speech, translated_speech = translate_speech(cog_region, cog_key, file_path, to_lang='en', from_lang='fr-FR')\n",
    "result = '{} -> {}'.format(speech, translated_speech)\n",
    "\n",
    "# Play audio and show translated text\n",
    "IPython.display.display(IPython.display.Audio(file_path, autoplay=True),\n",
    "                        IPython.display.HTML(result))"
   ]
  },
  {
   "cell_type": "markdown",
   "metadata": {},
   "source": [
    "## Learn More\n",
    "\n",
    "You can learn more about the [Translator Text](https://docs.microsoft.com/azure/cognitive-services/translator/) and [translation with the Speech service](https://docs.microsoft.com/azure/cognitive-services/speech-service/index-speech-translation) in the service documentation."
   ]
  }
 ],
 "metadata": {
  "hide_input": false,
  "kernelspec": {
   "display_name": "Python 3",
   "language": "python",
   "name": "python3"
  },
  "toc": {
   "base_numbering": 1,
   "nav_menu": {},
   "number_sections": true,
   "sideBar": true,
   "skip_h1_title": false,
   "title_cell": "Table of Contents",
   "title_sidebar": "Contents",
   "toc_cell": true,
   "toc_position": {},
   "toc_section_display": true,
   "toc_window_display": true
  }
 },
 "nbformat": 4,
 "nbformat_minor": 2
}
